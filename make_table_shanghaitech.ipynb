{
 "cells": [
  {
   "cell_type": "code",
   "execution_count": 1,
   "metadata": {},
   "outputs": [],
   "source": [
    "import pandas as pd\n",
    "import os\n",
    "from scipy.io import loadmat"
   ]
  },
  {
   "cell_type": "markdown",
   "metadata": {},
   "source": [
    "# how to read shanghai tech label "
   ]
  },
  {
   "cell_type": "code",
   "execution_count": 2,
   "metadata": {},
   "outputs": [],
   "source": [
    "path = \"/data/ShanghaiTech/part_A/train_data/ground-truth\"\n",
    "file_name = \"GT_IMG_1.mat\"\n",
    "single_gt = os.path.join(path, file_name)"
   ]
  },
  {
   "cell_type": "code",
   "execution_count": 3,
   "metadata": {},
   "outputs": [],
   "source": [
    "mat = loadmat(single_gt)"
   ]
  },
  {
   "cell_type": "code",
   "execution_count": 4,
   "metadata": {},
   "outputs": [
    {
     "data": {
      "text/plain": [
       "{'__header__': b'MATLAB 5.0 MAT-file, Platform: PCWIN64, Created on: Fri Nov 18 20:06:05 2016',\n",
       " '__version__': '1.0',\n",
       " '__globals__': [],\n",
       " 'image_info': array([[array([[(array([[ 29.6225116 , 472.92022152],\n",
       "        [ 54.35533603, 454.96602305],\n",
       "        [ 51.79045053, 460.46220626],\n",
       "        ...,\n",
       "        [597.89732076, 688.27900015],\n",
       "        [965.77518336, 638.44693908],\n",
       "        [166.9965574 , 628.1873971 ]]), array([[1546]], dtype=uint16))]],\n",
       "       dtype=[('location', 'O'), ('number', 'O')])]], dtype=object)}"
      ]
     },
     "execution_count": 4,
     "metadata": {},
     "output_type": "execute_result"
    }
   ],
   "source": [
    "mat"
   ]
  },
  {
   "cell_type": "code",
   "execution_count": 5,
   "metadata": {},
   "outputs": [
    {
     "data": {
      "text/plain": [
       "array([[array([[(array([[ 29.6225116 , 472.92022152],\n",
       "       [ 54.35533603, 454.96602305],\n",
       "       [ 51.79045053, 460.46220626],\n",
       "       ...,\n",
       "       [597.89732076, 688.27900015],\n",
       "       [965.77518336, 638.44693908],\n",
       "       [166.9965574 , 628.1873971 ]]), array([[1546]], dtype=uint16))]],\n",
       "      dtype=[('location', 'O'), ('number', 'O')])]], dtype=object)"
      ]
     },
     "execution_count": 5,
     "metadata": {},
     "output_type": "execute_result"
    }
   ],
   "source": [
    "mat['image_info']"
   ]
  },
  {
   "cell_type": "code",
   "execution_count": 6,
   "metadata": {},
   "outputs": [],
   "source": [
    "gt = mat[\"image_info\"][0, 0][0, 0][0]"
   ]
  },
  {
   "cell_type": "code",
   "execution_count": 7,
   "metadata": {},
   "outputs": [
    {
     "data": {
      "text/plain": [
       "1546"
      ]
     },
     "execution_count": 7,
     "metadata": {},
     "output_type": "execute_result"
    }
   ],
   "source": [
    "len(gt)"
   ]
  },
  {
   "cell_type": "code",
   "execution_count": 8,
   "metadata": {},
   "outputs": [],
   "source": [
    "total_count = mat[\"image_info\"][0, 0][0, 0][1]"
   ]
  },
  {
   "cell_type": "code",
   "execution_count": 9,
   "metadata": {},
   "outputs": [
    {
     "data": {
      "text/plain": [
       "1546"
      ]
     },
     "execution_count": 9,
     "metadata": {},
     "output_type": "execute_result"
    }
   ],
   "source": [
    "total_count.item()"
   ]
  },
  {
   "cell_type": "code",
   "execution_count": 10,
   "metadata": {},
   "outputs": [],
   "source": [
    "def read_total_count(mat_path):\n",
    "    mat = loadmat(mat_path)\n",
    "    total_count = mat[\"image_info\"][0, 0][0, 0][1]\n",
    "    return total_count.item()"
   ]
  },
  {
   "cell_type": "code",
   "execution_count": 11,
   "metadata": {},
   "outputs": [
    {
     "name": "stdout",
     "output_type": "stream",
     "text": [
      "GT_IMG_37.mat\n",
      "GT_IMG_115.mat\n",
      "GT_IMG_136.mat\n",
      "GT_IMG_93.mat\n",
      "GT_IMG_269.mat\n",
      "GT_IMG_268.mat\n",
      "GT_IMG_236.mat\n",
      "GT_IMG_140.mat\n",
      "GT_IMG_253.mat\n",
      "GT_IMG_174.mat\n",
      "GT_IMG_108.mat\n",
      "GT_IMG_128.mat\n",
      "GT_IMG_111.mat\n",
      "GT_IMG_194.mat\n",
      "GT_IMG_285.mat\n",
      "GT_IMG_4.mat\n",
      "GT_IMG_45.mat\n",
      "GT_IMG_252.mat\n",
      "GT_IMG_299.mat\n",
      "GT_IMG_40.mat\n",
      "GT_IMG_250.mat\n",
      "GT_IMG_12.mat\n",
      "GT_IMG_216.mat\n",
      "GT_IMG_227.mat\n",
      "GT_IMG_46.mat\n",
      "GT_IMG_245.mat\n",
      "GT_IMG_240.mat\n",
      "GT_IMG_95.mat\n",
      "GT_IMG_55.mat\n",
      "GT_IMG_123.mat\n",
      "GT_IMG_7.mat\n",
      "GT_IMG_215.mat\n",
      "GT_IMG_5.mat\n",
      "GT_IMG_83.mat\n",
      "GT_IMG_255.mat\n",
      "GT_IMG_280.mat\n",
      "GT_IMG_67.mat\n",
      "GT_IMG_39.mat\n",
      "GT_IMG_180.mat\n",
      "GT_IMG_169.mat\n",
      "GT_IMG_226.mat\n",
      "GT_IMG_258.mat\n",
      "GT_IMG_44.mat\n",
      "GT_IMG_231.mat\n",
      "GT_IMG_157.mat\n",
      "GT_IMG_282.mat\n",
      "GT_IMG_21.mat\n",
      "GT_IMG_114.mat\n",
      "GT_IMG_187.mat\n",
      "GT_IMG_30.mat\n",
      "GT_IMG_121.mat\n",
      "GT_IMG_271.mat\n",
      "GT_IMG_203.mat\n",
      "GT_IMG_20.mat\n",
      "GT_IMG_38.mat\n",
      "GT_IMG_193.mat\n",
      "GT_IMG_101.mat\n",
      "GT_IMG_15.mat\n",
      "GT_IMG_247.mat\n",
      "GT_IMG_275.mat\n",
      "GT_IMG_254.mat\n",
      "GT_IMG_56.mat\n",
      "GT_IMG_167.mat\n",
      "GT_IMG_232.mat\n",
      "GT_IMG_61.mat\n",
      "GT_IMG_109.mat\n",
      "GT_IMG_214.mat\n",
      "GT_IMG_273.mat\n",
      "GT_IMG_262.mat\n",
      "GT_IMG_149.mat\n",
      "GT_IMG_177.mat\n",
      "GT_IMG_104.mat\n",
      "GT_IMG_26.mat\n",
      "GT_IMG_49.mat\n",
      "GT_IMG_199.mat\n",
      "GT_IMG_68.mat\n",
      "GT_IMG_117.mat\n",
      "GT_IMG_97.mat\n",
      "GT_IMG_41.mat\n",
      "GT_IMG_290.mat\n",
      "GT_IMG_217.mat\n",
      "GT_IMG_152.mat\n",
      "GT_IMG_134.mat\n",
      "GT_IMG_8.mat\n",
      "GT_IMG_110.mat\n",
      "GT_IMG_35.mat\n",
      "GT_IMG_166.mat\n",
      "GT_IMG_87.mat\n",
      "GT_IMG_74.mat\n",
      "GT_IMG_276.mat\n",
      "GT_IMG_52.mat\n",
      "GT_IMG_132.mat\n",
      "GT_IMG_176.mat\n",
      "GT_IMG_173.mat\n",
      "GT_IMG_179.mat\n",
      "GT_IMG_24.mat\n",
      "GT_IMG_146.mat\n",
      "GT_IMG_22.mat\n",
      "GT_IMG_91.mat\n",
      "GT_IMG_154.mat\n",
      "GT_IMG_159.mat\n",
      "GT_IMG_178.mat\n",
      "GT_IMG_164.mat\n",
      "GT_IMG_208.mat\n",
      "GT_IMG_82.mat\n",
      "GT_IMG_113.mat\n",
      "GT_IMG_70.mat\n",
      "GT_IMG_278.mat\n",
      "GT_IMG_161.mat\n",
      "GT_IMG_96.mat\n",
      "GT_IMG_120.mat\n",
      "GT_IMG_170.mat\n",
      "GT_IMG_2.mat\n",
      "GT_IMG_294.mat\n",
      "GT_IMG_207.mat\n",
      "GT_IMG_204.mat\n",
      "GT_IMG_211.mat\n",
      "GT_IMG_192.mat\n",
      "GT_IMG_165.mat\n",
      "GT_IMG_63.mat\n",
      "GT_IMG_163.mat\n",
      "GT_IMG_89.mat\n",
      "GT_IMG_103.mat\n",
      "GT_IMG_228.mat\n",
      "GT_IMG_284.mat\n",
      "GT_IMG_99.mat\n",
      "GT_IMG_183.mat\n",
      "GT_IMG_175.mat\n",
      "GT_IMG_66.mat\n",
      "GT_IMG_300.mat\n",
      "GT_IMG_85.mat\n",
      "GT_IMG_241.mat\n",
      "GT_IMG_223.mat\n",
      "GT_IMG_142.mat\n",
      "GT_IMG_222.mat\n",
      "GT_IMG_19.mat\n",
      "GT_IMG_36.mat\n",
      "GT_IMG_73.mat\n",
      "GT_IMG_144.mat\n",
      "GT_IMG_81.mat\n",
      "GT_IMG_213.mat\n",
      "GT_IMG_18.mat\n",
      "GT_IMG_25.mat\n",
      "GT_IMG_105.mat\n",
      "GT_IMG_59.mat\n",
      "GT_IMG_135.mat\n",
      "GT_IMG_260.mat\n",
      "GT_IMG_29.mat\n",
      "GT_IMG_106.mat\n",
      "GT_IMG_28.mat\n",
      "GT_IMG_77.mat\n",
      "GT_IMG_195.mat\n",
      "GT_IMG_221.mat\n",
      "GT_IMG_279.mat\n",
      "GT_IMG_130.mat\n",
      "GT_IMG_139.mat\n",
      "GT_IMG_185.mat\n",
      "GT_IMG_6.mat\n",
      "GT_IMG_50.mat\n",
      "GT_IMG_126.mat\n",
      "GT_IMG_32.mat\n",
      "GT_IMG_234.mat\n",
      "GT_IMG_229.mat\n",
      "GT_IMG_86.mat\n",
      "GT_IMG_202.mat\n",
      "GT_IMG_43.mat\n",
      "GT_IMG_230.mat\n",
      "GT_IMG_265.mat\n",
      "GT_IMG_225.mat\n",
      "GT_IMG_138.mat\n",
      "GT_IMG_145.mat\n",
      "GT_IMG_10.mat\n",
      "GT_IMG_9.mat\n",
      "GT_IMG_64.mat\n",
      "GT_IMG_270.mat\n",
      "GT_IMG_69.mat\n",
      "GT_IMG_112.mat\n",
      "GT_IMG_212.mat\n",
      "GT_IMG_100.mat\n",
      "GT_IMG_65.mat\n",
      "GT_IMG_23.mat\n",
      "GT_IMG_218.mat\n",
      "GT_IMG_47.mat\n",
      "GT_IMG_274.mat\n",
      "GT_IMG_147.mat\n",
      "GT_IMG_172.mat\n",
      "GT_IMG_184.mat\n",
      "GT_IMG_171.mat\n",
      "GT_IMG_125.mat\n",
      "GT_IMG_80.mat\n",
      "GT_IMG_11.mat\n",
      "GT_IMG_251.mat\n",
      "GT_IMG_57.mat\n",
      "GT_IMG_75.mat\n",
      "GT_IMG_267.mat\n",
      "GT_IMG_155.mat\n",
      "GT_IMG_256.mat\n",
      "GT_IMG_31.mat\n",
      "GT_IMG_205.mat\n",
      "GT_IMG_151.mat\n",
      "GT_IMG_244.mat\n",
      "GT_IMG_263.mat\n",
      "GT_IMG_219.mat\n",
      "GT_IMG_210.mat\n",
      "GT_IMG_150.mat\n",
      "GT_IMG_248.mat\n",
      "GT_IMG_53.mat\n",
      "GT_IMG_235.mat\n",
      "GT_IMG_209.mat\n",
      "GT_IMG_264.mat\n",
      "GT_IMG_296.mat\n",
      "GT_IMG_233.mat\n",
      "GT_IMG_143.mat\n",
      "GT_IMG_16.mat\n",
      "GT_IMG_201.mat\n",
      "GT_IMG_102.mat\n",
      "GT_IMG_76.mat\n",
      "GT_IMG_198.mat\n",
      "GT_IMG_196.mat\n",
      "GT_IMG_48.mat\n",
      "GT_IMG_277.mat\n",
      "GT_IMG_153.mat\n",
      "GT_IMG_71.mat\n",
      "GT_IMG_224.mat\n",
      "GT_IMG_33.mat\n",
      "GT_IMG_98.mat\n",
      "GT_IMG_79.mat\n",
      "GT_IMG_124.mat\n",
      "GT_IMG_297.mat\n",
      "GT_IMG_246.mat\n",
      "GT_IMG_191.mat\n",
      "GT_IMG_90.mat\n",
      "GT_IMG_162.mat\n",
      "GT_IMG_206.mat\n",
      "GT_IMG_220.mat\n",
      "GT_IMG_92.mat\n",
      "GT_IMG_288.mat\n",
      "GT_IMG_27.mat\n",
      "GT_IMG_200.mat\n",
      "GT_IMG_58.mat\n",
      "GT_IMG_261.mat\n",
      "GT_IMG_249.mat\n",
      "GT_IMG_116.mat\n",
      "GT_IMG_84.mat\n",
      "GT_IMG_1.mat\n",
      "GT_IMG_148.mat\n",
      "GT_IMG_3.mat\n",
      "GT_IMG_62.mat\n",
      "GT_IMG_239.mat\n",
      "GT_IMG_257.mat\n",
      "GT_IMG_286.mat\n",
      "GT_IMG_133.mat\n",
      "GT_IMG_141.mat\n",
      "GT_IMG_259.mat\n",
      "GT_IMG_272.mat\n",
      "GT_IMG_34.mat\n",
      "GT_IMG_122.mat\n",
      "GT_IMG_238.mat\n",
      "GT_IMG_17.mat\n",
      "GT_IMG_156.mat\n",
      "GT_IMG_88.mat\n",
      "GT_IMG_283.mat\n",
      "GT_IMG_13.mat\n",
      "GT_IMG_291.mat\n",
      "GT_IMG_266.mat\n",
      "GT_IMG_160.mat\n",
      "GT_IMG_14.mat\n",
      "GT_IMG_78.mat\n",
      "GT_IMG_129.mat\n",
      "GT_IMG_127.mat\n",
      "GT_IMG_293.mat\n",
      "GT_IMG_131.mat\n",
      "GT_IMG_189.mat\n",
      "GT_IMG_197.mat\n",
      "GT_IMG_289.mat\n",
      "GT_IMG_242.mat\n",
      "GT_IMG_181.mat\n",
      "GT_IMG_158.mat\n",
      "GT_IMG_295.mat\n",
      "GT_IMG_243.mat\n",
      "GT_IMG_94.mat\n",
      "GT_IMG_188.mat\n",
      "GT_IMG_292.mat\n",
      "GT_IMG_237.mat\n",
      "GT_IMG_137.mat\n",
      "GT_IMG_119.mat\n",
      "GT_IMG_42.mat\n",
      "GT_IMG_72.mat\n",
      "GT_IMG_54.mat\n",
      "GT_IMG_281.mat\n",
      "GT_IMG_287.mat\n",
      "GT_IMG_182.mat\n",
      "GT_IMG_51.mat\n",
      "GT_IMG_190.mat\n",
      "GT_IMG_118.mat\n",
      "GT_IMG_60.mat\n",
      "GT_IMG_107.mat\n",
      "GT_IMG_168.mat\n",
      "GT_IMG_186.mat\n",
      "GT_IMG_298.mat\n"
     ]
    }
   ],
   "source": [
    "for afile in os.listdir(path):\n",
    "    print(afile)"
   ]
  },
  {
   "cell_type": "markdown",
   "metadata": {},
   "source": [
    "# Write to file "
   ]
  },
  {
   "cell_type": "code",
   "execution_count": 12,
   "metadata": {},
   "outputs": [],
   "source": [
    "def write_count_to_file(path_to_data_part, output_path):\n",
    "    train_path = os.path.join(path_to_data_part, \"train_data\", \"ground-truth\")\n",
    "    test_path = os.path.join(path_to_data_part, \"test_data\", \"ground-truth\")\n",
    "    file = open(output_path, \"w\")\n",
    "    path = train_path\n",
    "    paths = [train_path, test_path]\n",
    "    print(path)\n",
    "    for path in paths:\n",
    "        for file_name in os.listdir(path):\n",
    "            mat_path = os.path.join(path, file_name)\n",
    "            # print(mat_path)\n",
    "            people_count = read_total_count(mat_path)\n",
    "            img_name = file_name.replace(\"GT_\",\"\").replace(\".mat\", \"\")\n",
    "            if \"train_data\" in path:\n",
    "                data_set = \"train\"\n",
    "            elif \"test_data\" in path:\n",
    "                data_set = \"test\"\n",
    "            line = img_name + \",\" + data_set + \",\" + str(people_count) + \"\\n\"\n",
    "            file.write(line)\n",
    "    file.close()\n",
    "    print(\"done writing to \", output_path)\n",
    "    return output_path"
   ]
  },
  {
   "cell_type": "code",
   "execution_count": 13,
   "metadata": {},
   "outputs": [
    {
     "name": "stdout",
     "output_type": "stream",
     "text": [
      "/data/ShanghaiTech/part_A/train_data/ground-truth\n",
      "done writing to  shanghaitech_meta_data/sha.csv\n"
     ]
    },
    {
     "data": {
      "text/plain": [
       "'shanghaitech_meta_data/sha.csv'"
      ]
     },
     "execution_count": 13,
     "metadata": {},
     "output_type": "execute_result"
    }
   ],
   "source": [
    "write_count_to_file(\"/data/ShanghaiTech/part_A/\", \"shanghaitech_meta_data/sha.csv\")"
   ]
  },
  {
   "cell_type": "code",
   "execution_count": 14,
   "metadata": {},
   "outputs": [
    {
     "name": "stdout",
     "output_type": "stream",
     "text": [
      "/data/ShanghaiTech/part_B/train_data/ground-truth\n",
      "done writing to  shanghaitech_meta_data/shb.csv\n"
     ]
    },
    {
     "data": {
      "text/plain": [
       "'shanghaitech_meta_data/shb.csv'"
      ]
     },
     "execution_count": 14,
     "metadata": {},
     "output_type": "execute_result"
    }
   ],
   "source": [
    "write_count_to_file(\"/data/ShanghaiTech/part_B/\", \"shanghaitech_meta_data/shb.csv\")"
   ]
  },
  {
   "cell_type": "code",
   "execution_count": null,
   "metadata": {},
   "outputs": [],
   "source": []
  }
 ],
 "metadata": {
  "kernelspec": {
   "display_name": "Python 3",
   "language": "python",
   "name": "python3"
  },
  "language_info": {
   "codemirror_mode": {
    "name": "ipython",
    "version": 3
   },
   "file_extension": ".py",
   "mimetype": "text/x-python",
   "name": "python",
   "nbconvert_exporter": "python",
   "pygments_lexer": "ipython3",
   "version": "3.8.1"
  }
 },
 "nbformat": 4,
 "nbformat_minor": 4
}
